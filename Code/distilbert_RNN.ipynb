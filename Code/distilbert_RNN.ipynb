{
 "cells": [
  {
   "cell_type": "code",
   "execution_count": null,
   "metadata": {},
   "outputs": [],
   "source": [
    "import pandas as pd\n",
    "from transformers import DistilBertTokenizer, TFDistilBertForSequenceClassification, TFDistilBertModel\n",
    "import tensorflow as tf\n",
    "from sklearn.model_selection import train_test_split\n",
    "import numpy as np\n"
   ]
  },
  {
   "cell_type": "code",
   "execution_count": null,
   "metadata": {},
   "outputs": [],
   "source": [
    "preprocessed_data =  pd.read_csv('<<preprocessed data file path>>')"
   ]
  },
  {
   "cell_type": "code",
   "execution_count": null,
   "metadata": {},
   "outputs": [],
   "source": [
    "tokenizer = DistilBertTokenizer.from_pretrained('distilbert-base-uncased')\n",
    "encoded_data = tokenizer.batch_encode_plus(\n",
    "    preprocessed_data['mouse_data'],\n",
    "    padding=True,\n",
    "    truncation=True,\n",
    "    max_length=512,\n",
    "    return_attention_mask=True,\n",
    "    return_token_type_ids=False,\n",
    "    return_tensors='tf'\n",
    ")\n",
    "encoded_labels = preprocessed_data['label'].values"
   ]
  },
  {
   "cell_type": "code",
   "execution_count": null,
   "metadata": {},
   "outputs": [],
   "source": [
    "train_inputs, test_inputs, train_labels, test_labels = train_test_split(\n",
    "    encoded_data['input_ids'].numpy(), encoded_labels, test_size=0.2, random_state=42\n",
    ")\n",
    "\n",
    "train_masks, test_masks, _, _ = train_test_split(\n",
    "    encoded_data['attention_mask'].numpy(), encoded_labels, test_size=0.2, random_state=42\n",
    ")"
   ]
  },
  {
   "attachments": {},
   "cell_type": "markdown",
   "metadata": {},
   "source": [
    "Sequence Classification"
   ]
  },
  {
   "cell_type": "code",
   "execution_count": null,
   "metadata": {},
   "outputs": [],
   "source": [
    "model = TFDistilBertForSequenceClassification.from_pretrained('distilbert-base-uncased', num_labels=2)\n",
    "optimizer = tf.keras.optimizers.Adam(learning_rate=2e-5, epsilon=1e-08)\n",
    "loss = tf.keras.losses.SparseCategoricalCrossentropy(from_logits=True)\n",
    "metric = tf.keras.metrics.SparseCategoricalAccuracy('accuracy')\n",
    "model.compile(optimizer=optimizer, loss=loss, metrics=[metric])\n"
   ]
  },
  {
   "cell_type": "code",
   "execution_count": null,
   "metadata": {},
   "outputs": [],
   "source": [
    "model.summary()"
   ]
  },
  {
   "cell_type": "code",
   "execution_count": null,
   "metadata": {},
   "outputs": [],
   "source": [
    "history = model.fit(\n",
    "    {'input_ids': train_inputs, 'attention_mask': train_masks},\n",
    "    train_labels,\n",
    "    validation_data=({'input_ids': test_inputs, 'attention_mask': test_masks}, test_labels),\n",
    "    batch_size=16\n",
    ")"
   ]
  },
  {
   "attachments": {},
   "cell_type": "markdown",
   "metadata": {},
   "source": [
    "GRU"
   ]
  },
  {
   "cell_type": "code",
   "execution_count": null,
   "metadata": {},
   "outputs": [],
   "source": [
    "distilbert_model = TFDistilBertModel.from_pretrained('distilbert-base-uncased')\n",
    "\n",
    "input_layer = tf.keras.layers.Input(shape=(512,), dtype=tf.int32, name='input_layer')\n",
    "mask_layer = tf.keras.layers.Input(shape=(512,), dtype=tf.int32, name='mask_layer')\n",
    "distilbert_output = distilbert_model({'input_ids': input_layer, 'attention_mask': mask_layer})[0]\n",
    "gru_output = tf.keras.layers.GRU(units=32)(distilbert_output)\n",
    "output_layer = tf.keras.layers.Dense(1, activation='sigmoid')(gru_output)\n",
    "model = tf.keras.Model(inputs=[input_layer, mask_layer], outputs=output_layer)\n",
    "\n",
    "model.compile(optimizer='adam', loss='binary_crossentropy', metrics=['accuracy'])"
   ]
  },
  {
   "cell_type": "code",
   "execution_count": null,
   "metadata": {},
   "outputs": [],
   "source": [
    "model.summary()"
   ]
  },
  {
   "cell_type": "code",
   "execution_count": null,
   "metadata": {},
   "outputs": [],
   "source": [
    "model.fit(x=[train_inputs, train_masks], y=train_labels, validation_data=([test_inputs, test_masks], test_labels),  batch_size=16)"
   ]
  },
  {
   "attachments": {},
   "cell_type": "markdown",
   "metadata": {},
   "source": [
    "LSTM"
   ]
  },
  {
   "cell_type": "code",
   "execution_count": null,
   "metadata": {},
   "outputs": [],
   "source": [
    "from tensorflow.keras.models import Model\n",
    "from tensorflow.keras.layers import Input, LSTM, Dense"
   ]
  },
  {
   "cell_type": "code",
   "execution_count": null,
   "metadata": {},
   "outputs": [],
   "source": [
    "distilbert = TFDistilBertModel.from_pretrained('distilbert-base-uncased')\n",
    "\n",
    "\n",
    "input_layer = Input(shape=(512,), dtype=tf.int32, name='input_layer')\n",
    "mask_layer = Input(shape=(512,), dtype=tf.int32, name='mask_layer')\n",
    "\n",
    "\n",
    "distilbert_output = distilbert(input_layer, attention_mask=mask_layer)[0]\n",
    "\n",
    "lstm_output = LSTM(128)(distilbert_output)\n",
    "\n",
    "output_layer = Dense(1, activation='sigmoid')(lstm_output)\n",
    "\n",
    "model_inputs = [input_layer, mask_layer]\n",
    "model_outputs = output_layer\n",
    "\n",
    "model = Model(inputs=model_inputs, outputs=model_outputs)"
   ]
  },
  {
   "cell_type": "code",
   "execution_count": null,
   "metadata": {},
   "outputs": [],
   "source": [
    "model.compile(loss='binary_crossentropy', optimizer='adam', metrics=['accuracy'])"
   ]
  },
  {
   "cell_type": "code",
   "execution_count": null,
   "metadata": {},
   "outputs": [],
   "source": [
    "model.summary()"
   ]
  },
  {
   "cell_type": "code",
   "execution_count": null,
   "metadata": {},
   "outputs": [],
   "source": [
    "model.fit(\n",
    "    {'input_layer': train_inputs, 'mask_layer': train_masks},\n",
    "    train_labels,\n",
    "    batch_size=16,\n",
    "    validation_data=({'input_layer': test_inputs, 'mask_layer': test_masks}, test_labels)\n",
    ")"
   ]
  },
  {
   "attachments": {},
   "cell_type": "markdown",
   "metadata": {},
   "source": [
    "BiLSTM"
   ]
  },
  {
   "cell_type": "code",
   "execution_count": null,
   "metadata": {},
   "outputs": [],
   "source": [
    "import tensorflow as tf\n",
    "from tensorflow.keras.layers import Input, Dense, Dropout, Embedding, LSTM, Bidirectional, concatenate\n",
    "from transformers import TFDistilBertModel, DistilBertTokenizer\n"
   ]
  },
  {
   "cell_type": "code",
   "execution_count": null,
   "metadata": {},
   "outputs": [],
   "source": [
    "from tensorflow.keras.layers import Input, Dense, Concatenate, TimeDistributed, Bidirectional, LSTM"
   ]
  },
  {
   "cell_type": "code",
   "execution_count": null,
   "metadata": {},
   "outputs": [],
   "source": [
    "distilbert_model = TFDistilBertModel.from_pretrained('distilbert-base-uncased')\n",
    "\n",
    "input_layer = Input(shape=(512,), dtype=tf.int32, name='input_layer')\n",
    "mask_layer = Input(shape=(512,), dtype=tf.int32, name='mask_layer')\n",
    "\n",
    "distilbert_model.trainable = False\n",
    "\n",
    "distilbert_output = distilbert_model(input_layer, attention_mask=mask_layer)[0]\n",
    "\n",
    "lstm_layer = Bidirectional(LSTM(64, return_sequences=False))(distilbert_output)\n",
    "\n",
    "combined_layer = Concatenate()([distilbert_output[:, 0, :], lstm_layer])\n",
    "\n",
    "dense_layer = Dense(128, activation='relu')(combined_layer)\n",
    "dropout_layer = Dropout(0.5)(dense_layer)\n",
    "output_layer = Dense(1, activation='sigmoid')(dropout_layer)"
   ]
  },
  {
   "cell_type": "code",
   "execution_count": null,
   "metadata": {},
   "outputs": [],
   "source": [
    "model = tf.keras.models.Model(inputs=[input_layer, mask_layer], outputs=output_layer)\n",
    "model.compile(loss='binary_crossentropy', optimizer='adam', metrics=['accuracy'])\n",
    "model.summary()"
   ]
  },
  {
   "cell_type": "code",
   "execution_count": null,
   "metadata": {},
   "outputs": [],
   "source": [
    "model.fit(\n",
    "    {'input_layer': train_inputs, 'mask_layer': train_masks},\n",
    "    train_labels,\n",
    "    batch_size=8,\n",
    "    validation_data=({'input_layer': test_inputs, 'mask_layer': test_masks}, test_labels)\n",
    ")"
   ]
  }
 ],
 "metadata": {
  "kernelspec": {
   "display_name": "Python 3",
   "language": "python",
   "name": "python3"
  },
  "language_info": {
   "codemirror_mode": {
    "name": "ipython",
    "version": 3
   },
   "file_extension": ".py",
   "mimetype": "text/x-python",
   "name": "python",
   "nbconvert_exporter": "python",
   "pygments_lexer": "ipython3",
   "version": "3.10.7"
  },
  "orig_nbformat": 4
 },
 "nbformat": 4,
 "nbformat_minor": 2
}
