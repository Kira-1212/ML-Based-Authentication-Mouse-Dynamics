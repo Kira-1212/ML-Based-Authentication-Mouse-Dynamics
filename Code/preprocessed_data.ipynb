{
 "cells": [
  {
   "cell_type": "code",
   "execution_count": 1,
   "metadata": {},
   "outputs": [],
   "source": [
    "import pandas as pd\n",
    "import numpy as np\n",
    "import os"
   ]
  },
  {
   "cell_type": "code",
   "execution_count": 2,
   "metadata": {},
   "outputs": [],
   "source": [
    "df = pd.DataFrame()"
   ]
  },
  {
   "cell_type": "code",
   "execution_count": 3,
   "metadata": {},
   "outputs": [],
   "source": [
    "for(root, dirs, files) in os.walk(r\"C:\\MyStuff\\Courses\\Spring22\\Project\\Mouse-Dynamics-Challenge\\training_files\"):\n",
    "    user = root.split(\"\\\\\")[-1]\n",
    "    \n",
    "    for session in files:\n",
    "        \n",
    "        file_df = pd.read_csv(root + \"/\" + session)\n",
    "        file_df['user_id'] = user\n",
    "        file_df['session_id'] = session\n",
    "        df = pd.concat([df, file_df], ignore_index=True)"
   ]
  },
  {
   "cell_type": "code",
   "execution_count": 4,
   "metadata": {},
   "outputs": [],
   "source": [
    "for(root, dirs, files) in os.walk(r\"C:\\MyStuff\\Courses\\Spring22\\Project\\Mouse-Dynamics-Challenge\\test_files\"):\n",
    "    user = root.split(\"\\\\\")[-1]\n",
    "    \n",
    "    for session in files:\n",
    "        \n",
    "        file_df = pd.read_csv(root + \"/\" + session)\n",
    "        file_df['user_id'] = user\n",
    "        file_df['session_id'] = session\n",
    "        df = pd.concat([df, file_df], ignore_index=True)"
   ]
  },
  {
   "cell_type": "code",
   "execution_count": 5,
   "metadata": {},
   "outputs": [],
   "source": [
    "features = []\n",
    "for session in df.groupby('session_id'):\n",
    "    duration = session[1]['record timestamp'].iloc[-1] - session[1]['record timestamp'].iloc[0]\n",
    "    action = len(session[1])\n",
    "    x_diffs = [session[1].iloc[i+1]['x'] - session[1].iloc[i]['x'] for i in range(action-1)]\n",
    "    y_diffs = [session[1].iloc[i+1]['y'] - session[1].iloc[i]['y'] for i in range(action-1)]\n",
    "    avg_speed = sum([((xd**2 + yd**2)**0.5) / duration for xd, yd in zip(x_diffs, y_diffs)]) / action\n",
    "    features.append([duration, action, avg_speed])"
   ]
  },
  {
   "cell_type": "code",
   "execution_count": null,
   "metadata": {},
   "outputs": [],
   "source": [
    "proc_data = pd.DataFrame(features, columns=['duration', 'action', 'avg_speed'])"
   ]
  },
  {
   "cell_type": "code",
   "execution_count": null,
   "metadata": {},
   "outputs": [],
   "source": [
    "anomalous_criteria = {\n",
    "    'action': 3000,\n",
    "    'duration': 950,\n",
    "    'abnormal_movement': True,\n",
    "    'unusual_click': True\n",
    "}"
   ]
  },
  {
   "cell_type": "code",
   "execution_count": null,
   "metadata": {},
   "outputs": [],
   "source": [
    "anomalous_sessions = (\n",
    "    (proc_data['action'] < anomalous_criteria['action']) |\n",
    "    (proc_data['duration'] < anomalous_criteria['duration']) \n",
    ")"
   ]
  },
  {
   "cell_type": "code",
   "execution_count": null,
   "metadata": {},
   "outputs": [],
   "source": [
    "df['data'] = df['button'].astype(str) + ' ' + df['state'].astype(str)"
   ]
  },
  {
   "cell_type": "code",
   "execution_count": null,
   "metadata": {},
   "outputs": [],
   "source": [
    "text = ''\n",
    "dat =[]\n",
    "for _, session in df.groupby('session_id'):\n",
    "    text += session['data'].str.cat(sep=' ') + ' ' \n",
    "    dat.append(text)\n",
    "    text = ''"
   ]
  },
  {
   "cell_type": "code",
   "execution_count": null,
   "metadata": {},
   "outputs": [],
   "source": [
    "preprocessed_data = pd.DataFrame(dat, columns=['mouse_data'])"
   ]
  },
  {
   "cell_type": "code",
   "execution_count": null,
   "metadata": {},
   "outputs": [],
   "source": [
    "preprocessed_data['label'] = anomalous_sessions.astype(int)"
   ]
  },
  {
   "cell_type": "code",
   "execution_count": null,
   "metadata": {},
   "outputs": [],
   "source": [
    "preprocessed_data.to_csv('C:\\MyStuff\\Courses\\Spring22\\Project\\Final\\labeled_data_normal.csv', index=False)"
   ]
  }
 ],
 "metadata": {
  "kernelspec": {
   "display_name": "Python 3",
   "language": "python",
   "name": "python3"
  },
  "language_info": {
   "codemirror_mode": {
    "name": "ipython",
    "version": 3
   },
   "file_extension": ".py",
   "mimetype": "text/x-python",
   "name": "python",
   "nbconvert_exporter": "python",
   "pygments_lexer": "ipython3",
   "version": "3.10.7"
  },
  "orig_nbformat": 4
 },
 "nbformat": 4,
 "nbformat_minor": 2
}
