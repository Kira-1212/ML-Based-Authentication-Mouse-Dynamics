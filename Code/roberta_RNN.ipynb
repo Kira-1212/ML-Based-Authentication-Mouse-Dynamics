{
 "cells": [
  {
   "cell_type": "code",
   "execution_count": null,
   "metadata": {},
   "outputs": [],
   "source": [
    "from transformers import RobertaTokenizer\n",
    "from transformers import TFRobertaModel\n",
    "import pandas as pd\n",
    "import tensorflow as tf\n",
    "from sklearn.model_selection import train_test_split\n",
    "from tensorflow.keras.layers import Input, Dense, Concatenate, Bidirectional, LSTM , Dropout \n",
    "from tensorflow.keras.models import Model"
   ]
  },
  {
   "cell_type": "code",
   "execution_count": null,
   "metadata": {},
   "outputs": [],
   "source": [
    "preprocessed_data =  pd.read_csv('<<preprocessed data file path>>')"
   ]
  },
  {
   "cell_type": "code",
   "execution_count": null,
   "metadata": {},
   "outputs": [],
   "source": [
    "tokenizer = RobertaTokenizer.from_pretrained('roberta-large')\n",
    "encoded_data = tokenizer.batch_encode_plus(\n",
    "    preprocessed_data['mouse_data'],\n",
    "    padding=True,\n",
    "    truncation=True,\n",
    "    max_length=512,\n",
    "    return_attention_mask=False,\n",
    "    return_token_type_ids=False,\n",
    "    return_tensors='tf'\n",
    ")\n",
    "encoded_labels = preprocessed_data['label'].values"
   ]
  },
  {
   "cell_type": "code",
   "execution_count": null,
   "metadata": {},
   "outputs": [],
   "source": [
    "train_inputs, test_inputs, train_labels, test_labels = train_test_split(\n",
    "    encoded_data['input_ids'].numpy(), encoded_labels, test_size=0.2, random_state=42\n",
    ")"
   ]
  },
  {
   "cell_type": "code",
   "execution_count": null,
   "metadata": {},
   "outputs": [],
   "source": [
    "roberta = TFRobertaModel.from_pretrained('roberta-base')\n",
    "\n",
    "input_layer = tf.keras.layers.Input(shape=(512,), dtype=tf.int32, name='input_layer')\n",
    "roberta_layer = roberta(input_layer)[0]\n",
    "gru_layer = tf.keras.layers.GRU(units=128)(roberta_layer)\n",
    "output_layer = tf.keras.layers.Dense(units=1, activation='sigmoid')(gru_layer)\n",
    "\n",
    "model = tf.keras.models.Model(inputs=input_layer, outputs=output_layer)\n",
    "\n",
    "\n",
    "model.compile(optimizer='adam', loss='binary_crossentropy', metrics=['accuracy'])"
   ]
  },
  {
   "cell_type": "code",
   "execution_count": null,
   "metadata": {},
   "outputs": [],
   "source": [
    "model.summary()"
   ]
  },
  {
   "cell_type": "code",
   "execution_count": null,
   "metadata": {},
   "outputs": [],
   "source": [
    "model.fit(x=train_inputs, y=train_labels, validation_data=(test_inputs, test_labels),  batch_size=8)"
   ]
  },
  {
   "cell_type": "code",
   "execution_count": null,
   "metadata": {},
   "outputs": [],
   "source": [
    "roberta = TFRobertaModel.from_pretrained('roberta-base')\n",
    "\n",
    "input_layer = tf.keras.layers.Input(shape=(512,), dtype=tf.int32, name='input_layer')\n",
    "roberta_layer = roberta(input_layer)[0]\n",
    "lstm_output = LSTM(128)(roberta_layer)\n",
    "output_layer = Dense(1, activation='sigmoid')(lstm_output)\n",
    "\n",
    "model_inputs = input_layer\n",
    "model_outputs = output_layer\n",
    "\n",
    "model = Model(inputs=model_inputs, outputs=model_outputs)\n",
    "\n",
    "model.compile(loss='binary_crossentropy', optimizer='adam', metrics=['accuracy'])"
   ]
  },
  {
   "cell_type": "code",
   "execution_count": null,
   "metadata": {},
   "outputs": [],
   "source": [
    "\n",
    "model.summary()"
   ]
  },
  {
   "cell_type": "code",
   "execution_count": null,
   "metadata": {},
   "outputs": [],
   "source": [
    "model.fit(x=train_inputs, y=train_labels, validation_data=(test_inputs, test_labels),  batch_size=8)"
   ]
  },
  {
   "cell_type": "code",
   "execution_count": null,
   "metadata": {},
   "outputs": [],
   "source": [
    "roberta = TFRobertaModel.from_pretrained('roberta-base')\n",
    "\n",
    "input_layer = Input(shape=(512,), dtype=tf.int32, name='input_layer')\n",
    "\n",
    "roberta.trainable = False\n",
    "\n",
    "roberta_layer = roberta(input_layer)[0]\n",
    "\n",
    "lstm_layer = Bidirectional(LSTM(64, return_sequences=False))(roberta_layer)\n",
    "\n",
    "combined_layer = Concatenate()([roberta_layer[:, 0, :], lstm_layer])\n",
    "\n",
    "dense_layer = Dense(128, activation='relu')(combined_layer)\n",
    "dropout_layer = Dropout(0.5)(dense_layer)\n",
    "output_layer = Dense(1, activation='sigmoid')(dropout_layer)\n",
    "\n",
    "model = tf.keras.models.Model(inputs=input_layer, outputs=output_layer)\n",
    "model.compile(loss='binary_crossentropy', optimizer='adam', metrics=['accuracy'])"
   ]
  },
  {
   "cell_type": "code",
   "execution_count": null,
   "metadata": {},
   "outputs": [],
   "source": [
    "model.summary()"
   ]
  },
  {
   "cell_type": "code",
   "execution_count": null,
   "metadata": {},
   "outputs": [],
   "source": [
    "model.fit(x=train_inputs, y=train_labels, validation_data=(test_inputs, test_labels),  batch_size=8)"
   ]
  }
 ],
 "metadata": {
  "kernelspec": {
   "display_name": "Python 3",
   "language": "python",
   "name": "python3"
  },
  "language_info": {
   "codemirror_mode": {
    "name": "ipython",
    "version": 3
   },
   "file_extension": ".py",
   "mimetype": "text/x-python",
   "name": "python",
   "nbconvert_exporter": "python",
   "pygments_lexer": "ipython3",
   "version": "3.10.7"
  },
  "orig_nbformat": 4
 },
 "nbformat": 4,
 "nbformat_minor": 2
}
